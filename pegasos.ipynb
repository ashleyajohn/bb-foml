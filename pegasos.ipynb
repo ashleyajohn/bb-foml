{
 "cells": [
  {
   "cell_type": "code",
   "execution_count": 14,
   "metadata": {},
   "outputs": [],
   "source": [
    "# Taken from http://web.stanford.edu/class/cs221/ Assignment #2 Support Code\n",
    "def dotProduct(d1, d2):\n",
    "    \"\"\"\n",
    "    @param dict d1: a feature vector represented by a mapping from a feature (string) to a weight (float).\n",
    "    @param dict d2: same as d1\n",
    "    @return float: the dot product between d1 and d2\n",
    "    \"\"\"\n",
    "    if len(d1) < len(d2):\n",
    "        return dotProduct(d2, d1)\n",
    "    else:\n",
    "        return sum(d1.get(f, 0) * v for f, v in d2.items())\n",
    "\n",
    "def increment(d1, scale, d2):\n",
    "    \"\"\"\n",
    "    Implements d1 += scale * d2 for sparse vectors.\n",
    "    @param dict d1: the feature vector which is mutated.\n",
    "    @param float scale\n",
    "    @param dict d2: a feature vector.\n",
    "\n",
    "    NOTE: This function does not return anything, but rather\n",
    "    increments d1 in place. We do this because it is much faster to\n",
    "    change elements of d1 in place than to build a new dictionary and\n",
    "    return it.\n",
    "    \"\"\"\n",
    "    for f, v in d2.items():\n",
    "        d1[f] = d1.get(f, 0) + v * scale"
   ]
  },
  {
   "cell_type": "code",
   "execution_count": 15,
   "metadata": {},
   "outputs": [],
   "source": [
    "import os\n",
    "import numpy as np\n",
    "import pickle\n",
    "import random\n",
    "\n",
    "'''\n",
    "Note:  This code is just a hint for people who are not familiar with text processing in python. There is no obligation to use this code, though you may if you like. \n",
    "'''\n",
    "\n",
    "\n",
    "def folder_list(path,label):\n",
    "    '''\n",
    "    Input: path to where the data is located and label (1 or -1 depending on positive or negative)\n",
    "    Output: list of file contents \n",
    "    '''\n",
    "    filelist = os.listdir(path)\n",
    "    review = []\n",
    "    for infile in filelist:\n",
    "        file = os.path.join(path,infile)\n",
    "        r = read_data(file)\n",
    "        r.append(label)\n",
    "        review.append(r)\n",
    "    return review\n",
    "\n",
    "def read_data(file):\n",
    "    '''\n",
    "    Read each file into a list of strings. \n",
    "    Example:\n",
    "    [\"it's\", 'a', 'curious', 'thing', \"i've\", 'found', 'that', 'when', 'willis', 'is', 'not', 'called', 'on', \n",
    "    ...'to', 'carry', 'the', 'whole', 'movie', \"he's\", 'much', 'better', 'and', 'so', 'is', 'the', 'movie']\n",
    "    '''\n",
    "    f = open(file)\n",
    "    lines = f.read().split(' ')\n",
    "    symbols = '${}()[].,:;+-*/&|<>=~\" '\n",
    "    words = map(lambda Element: Element.translate(None, symbols).strip(), lines)\n",
    "    words = filter(None, words)\n",
    "    return words\n",
    "\t\n",
    "###############################################\n",
    "######## YOUR CODE STARTS FROM HERE. ##########\n",
    "###############################################\n",
    "\n",
    "def shuffle_data():\n",
    "    '''\n",
    "    pos_path is where you save positive review data.\n",
    "    neg_path is where you save negative review data.\n",
    "    '''\n",
    "    pos_path = \"data/data/pos\"\n",
    "    neg_path = \"data/data/neg\"\n",
    "\t\n",
    "    pos_review = folder_list(pos_path,1)\n",
    "    neg_review = folder_list(neg_path,-1)\n",
    "\t\n",
    "    review = pos_review + neg_review\n",
    "    random.shuffle(review)\n",
    "    return review"
   ]
  },
  {
   "cell_type": "code",
   "execution_count": 16,
   "metadata": {},
   "outputs": [],
   "source": [
    "pos_path = \"data/data/pos\"\n",
    "neg_path = \"data/data/neg\"\n",
    "pos_review = folder_list(pos_path,1)\n",
    "neg_review = folder_list(neg_path,-1)"
   ]
  },
  {
   "cell_type": "code",
   "execution_count": 17,
   "metadata": {},
   "outputs": [],
   "source": [
    "shuffle=shuffle_data()\n",
    "train = shuffle[:1500]\n",
    "test = shuffle[1500:]"
   ]
  },
  {
   "cell_type": "code",
   "execution_count": 18,
   "metadata": {},
   "outputs": [],
   "source": [
    "import collections\n",
    "def counter(data):\n",
    "    y = []\n",
    "    X = []\n",
    "    for i in range(len(data)):\n",
    "        y.append(data[i][-1])\n",
    "        X.append(collections.Counter(data[i][:-1]))\n",
    "    return X, y"
   ]
  },
  {
   "cell_type": "code",
   "execution_count": 19,
   "metadata": {},
   "outputs": [],
   "source": [
    "X,y = counter(train)"
   ]
  },
  {
   "cell_type": "code",
   "execution_count": 20,
   "metadata": {},
   "outputs": [],
   "source": [
    "def pegasos(X, y, lambda_reg, max_epochs):\n",
    "    t = 2\n",
    "    w = dict()\n",
    "    epoch = 0\n",
    "    while epoch < max_epochs:\n",
    "        epoch += 1\n",
    "        for i in range(len(X)):\n",
    "            t += 1\n",
    "            stepSize = 1/(t*lambda_reg)\n",
    "            if y[i]*dotProduct(w, X[i]) < 1:\n",
    "                w = (1 - stepSize*lambda_reg)*w + stepSize*y*x\n",
    "            else:\n",
    "                w = (1 - stepSize*lambda_reg)*w\n",
    "    return w"
   ]
  },
  {
   "cell_type": "code",
   "execution_count": 21,
   "metadata": {},
   "outputs": [],
   "source": [
    "def pegasos_2(X_train, y_train, lambda_reg, max_epochs):\n",
    "    t = 2\n",
    "    w = dict()\n",
    "    s = 1\n",
    "    epoch = 0\n",
    "    while epoch < max_epochs:\n",
    "        epoch += 1\n",
    "        for i in range(len(X_train)):\n",
    "            t += 1\n",
    "            stepSize = 1/(t*lambda_reg)\n",
    "            s *= (1-stepSize*lambda_reg)\n",
    "            if s*y_train[i]*dotProduct(w, X_train[i]) < 1:\n",
    "                w = w*s + stepSize*y/s\n",
    "    w = (1 - stepSize*lambda_reg)*w + stepSize*y*x\n",
    "    return w"
   ]
  },
  {
   "cell_type": "code",
   "execution_count": null,
   "metadata": {},
   "outputs": [],
   "source": []
  }
 ],
 "metadata": {
  "kernelspec": {
   "display_name": "Python 2",
   "language": "python",
   "name": "python2"
  },
  "language_info": {
   "codemirror_mode": {
    "name": "ipython",
    "version": 2
   },
   "file_extension": ".py",
   "mimetype": "text/x-python",
   "name": "python",
   "nbconvert_exporter": "python",
   "pygments_lexer": "ipython2",
   "version": "2.7.13"
  }
 },
 "nbformat": 4,
 "nbformat_minor": 2
}
